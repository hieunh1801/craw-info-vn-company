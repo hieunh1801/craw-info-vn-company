{
 "cells": [
  {
   "cell_type": "code",
   "execution_count": 6,
   "metadata": {},
   "outputs": [
    {
     "data": {
      "text/plain": [
       "\"asdfadsf'sd\""
      ]
     },
     "execution_count": 6,
     "metadata": {},
     "output_type": "execute_result"
    }
   ],
   "source": [
    "txt = \"asdfadsf'sd\"\n",
    "x = txt.replace(\"'\", \"''\")\n",
    "txt\n",
    "txt = txt.replace(\"!@#$%^&*()[]{};:,./<>?\\|`~-=_+'\", \"''''\")\n",
    "txt"
   ]
  },
  {
   "cell_type": "code",
   "execution_count": 11,
   "metadata": {},
   "outputs": [
    {
     "data": {
      "text/plain": [
       "['tien-giang',\n",
       " 'hung-yen',\n",
       " 'ha-noi',\n",
       " 'tp-ho-chi-minh',\n",
       " 'ca-mau',\n",
       " 'dac-lac',\n",
       " 'nam-dinh',\n",
       " 'quang-ninh',\n",
       " 'dak-nong',\n",
       " 'da-nang',\n",
       " 'hai-duong',\n",
       " 'long-an',\n",
       " 'ben-tre',\n",
       " 'dong-thap',\n",
       " 'vinh-long',\n",
       " 'kien-giang',\n",
       " 'tra-vinh',\n",
       " 'soc-trang',\n",
       " 'bac-ninh',\n",
       " 'thanh-hoa',\n",
       " 'vung-tau',\n",
       " 'dong-nai',\n",
       " 'binh-duong',\n",
       " 'thai-nguyen',\n",
       " 'thai-binh',\n",
       " 'can-tho',\n",
       " 'nghe-an',\n",
       " 'hue',\n",
       " 'binh-phuoc',\n",
       " 'quang-nam',\n",
       " 'quang-ngai',\n",
       " 'ninh-thuan',\n",
       " 'lao-cai',\n",
       " 'hai-phong',\n",
       " 'an-giang',\n",
       " 'phu-tho',\n",
       " 'tay-ninh',\n",
       " 'khanh-hoa',\n",
       " 'phu-yen',\n",
       " 'hoa-binh',\n",
       " 'tuyen-quang',\n",
       " 'lai-chau',\n",
       " 'hau-giang',\n",
       " 'lam-dong',\n",
       " 'lang-son',\n",
       " 'ha-nam',\n",
       " 'bac-can',\n",
       " 'binh-dinh',\n",
       " 'cao-bang',\n",
       " 'son-la',\n",
       " 'quang-binh',\n",
       " 'quang-tri',\n",
       " 'gia-lai',\n",
       " 'bac-giang',\n",
       " 'ha-tinh',\n",
       " 'ninh-binh',\n",
       " 'binh-thuan',\n",
       " 'kon-tum',\n",
       " 'vinh-phuc',\n",
       " 'bac-lieu',\n",
       " 'yen-bai',\n",
       " 'dien-bien',\n",
       " 'ha-giang',\n",
       " 'chua-ro']"
      ]
     },
     "execution_count": 11,
     "metadata": {},
     "output_type": "execute_result"
    }
   ],
   "source": [
    "list_city_name = [{'name': 'Tiền Giang', 'solrId': '/tien-giang'}, {'name': 'Hưng Yên', 'solrId': '/hung-yen'}, {'name': 'Hà Nội', 'solrId': '/ha-noi'}, {'name': 'TP Hồ Chí Minh', 'solrId': '/tp-ho-chi-minh'}, {'name': 'Cà Mau', 'solrId': '/ca-mau'}, {'name': 'Đắc Lắc', 'solrId': '/dac-lac'}, {'name': 'Nam Định', 'solrId': '/nam-dinh'}, {'name': 'Quảng Ninh', 'solrId': '/quang-ninh'}, {'name': 'Đắk Nông', 'solrId': '/dak-nong'}, {'name': 'Đà Nẵng', 'solrId': '/da-nang'}, {'name': 'Hải Dương', 'solrId': '/hai-duong'}, {'name': 'Long An', 'solrId': '/long-an'}, {'name': 'Bến Tre', 'solrId': '/ben-tre'}, {'name': 'Đồng Tháp', 'solrId': '/dong-thap'}, {'name': 'Vĩnh Long', 'solrId': '/vinh-long'}, {'name': 'Kiên Giang', 'solrId': '/kien-giang'}, {'name': 'Trà Vinh', 'solrId': '/tra-vinh'}, {'name': 'Sóc Trăng', 'solrId': '/soc-trang'}, {'name': 'Bắc Ninh', 'solrId': '/bac-ninh'}, {'name': 'Thanh Hoá', 'solrId': '/thanh-hoa'}, {'name': 'Vũng Tàu', 'solrId': '/vung-tau'}, {'name': 'Đồng Nai', 'solrId': '/dong-nai'}, {'name': 'Bình Dương', 'solrId': '/binh-duong'}, {'name': 'Thái Nguyên', 'solrId': '/thai-nguyen'}, {'name': 'Thái Bình', 'solrId': '/thai-binh'}, {'name': 'Cần Thơ', 'solrId': '/can-tho'}, {'name': 'Nghệ An', 'solrId': '/nghe-an'}, {'name': 'Huế', 'solrId': '/hue'}, {'name': 'Bình Phước', 'solrId': '/binh-phuoc'}, {'name': 'Quảng Nam', 'solrId': '/quang-nam'}, {'name': 'Quảng Ngãi', 'solrId': '/quang-ngai'}, {'name': 'Ninh Thuận', 'solrId': '/ninh-thuan'}, {'name': 'Lào Cai', 'solrId': '/lao-cai'}, {'name': 'Hải Phòng', 'solrId': '/hai-phong'}, {'name': 'An Giang', 'solrId': '/an-giang'}, {'name': 'Phú Thọ', 'solrId': '/phu-tho'}, {'name': 'Tây Ninh', 'solrId': '/tay-ninh'}, {'name': 'Khánh Hòa', 'solrId': '/khanh-hoa'}, {'name': 'Phú Yên', 'solrId': '/phu-yen'}, {'name': 'Hòa Bình', 'solrId': '/hoa-binh'}, {'name': 'Tuyên Quang', 'solrId': '/tuyen-quang'}, {'name': 'Lai Châu', 'solrId': '/lai-chau'}, {'name': 'Hậu Giang', 'solrId': '/hau-giang'}, {'name': 'Lâm Đồng', 'solrId': '/lam-dong'}, {'name': 'Lạng Sơn', 'solrId': '/lang-son'}, {'name': 'Hà Nam', 'solrId': '/ha-nam'}, {'name': 'Bắc Cạn', 'solrId': '/bac-can'}, {'name': 'Bình Định', 'solrId': '/binh-dinh'}, {'name': 'Cao Bằng', 'solrId': '/cao-bang'}, {'name': 'Sơn La', 'solrId': '/son-la'}, {'name': 'Quảng Bình', 'solrId': '/quang-binh'}, {'name': 'Quảng Trị', 'solrId': '/quang-tri'}, {'name': 'Gia Lai', 'solrId': '/gia-lai'}, {'name': 'Bắc Giang', 'solrId': '/bac-giang'}, {'name': 'Hà Tĩnh', 'solrId': '/ha-tinh'}, {'name': 'Ninh Bình', 'solrId': '/ninh-binh'}, {'name': 'Bình Thuận', 'solrId': '/binh-thuan'}, {'name': 'Kon Tum', 'solrId': '/kon-tum'}, {'name': 'Vĩnh Phúc', 'solrId': '/vinh-phuc'}, {'name': 'Bạc Liêu', 'solrId': '/bac-lieu'}, {'name': 'Yên Bái', 'solrId': '/yen-bai'}, {'name': 'Điện Biên', 'solrId': '/dien-bien'}, {'name': 'Hà Giang', 'solrId': '/ha-giang'}, {'name': 'Chưa rõ', 'solrId': '/chua-ro'}]\n",
    "new_list = []\n",
    "for city in list_city_name:\n",
    "    new_list.append(city['solrId'].replace(\"/\",\"\"))\n",
    "print(new_list)"
   ]
  },
  {
   "cell_type": "code",
   "execution_count": 11,
   "metadata": {},
   "outputs": [
    {
     "name": "stdout",
     "output_type": "stream",
     "text": [
      "1\n",
      "2\n",
      "3\n",
      "4\n",
      "5\n",
      "6done in  0.011966466903686523\n",
      "\n",
      "7\n",
      "8\n",
      "9\n",
      "10\n"
     ]
    }
   ],
   "source": [
    "from threading import Thread\n",
    "import threading\n",
    "import time\n",
    "\n",
    "\n",
    "def cal(numbers):\n",
    "    for n in numbers:\n",
    "        print(n)\n",
    "\n",
    "\n",
    "arr = [1,2,3,4,5,6,7,8,9,10]\n",
    "arr[0:5]\n",
    "arr[5:]\n",
    "try:\n",
    "    t = time.time()\n",
    "    t1 = threading.Thread(target=cal, args=(arr[0:5],))\n",
    "    t2 = threading.Thread(target=cal, args=(arr[5:],))\n",
    "    t1.start()\n",
    "    t2.start()\n",
    "#     t1.join()\n",
    "#     t2.join()\n",
    "#     cal(arr)\n",
    "    print (\"done in \", time.time()- t)\n",
    "except:\n",
    "    print (\"error\")"
   ]
  },
  {
   "cell_type": "code",
   "execution_count": null,
   "metadata": {},
   "outputs": [],
   "source": []
  }
 ],
 "metadata": {
  "kernelspec": {
   "display_name": "Python 3",
   "language": "python",
   "name": "python3"
  },
  "language_info": {
   "codemirror_mode": {
    "name": "ipython",
    "version": 3
   },
   "file_extension": ".py",
   "mimetype": "text/x-python",
   "name": "python",
   "nbconvert_exporter": "python",
   "pygments_lexer": "ipython3",
   "version": "3.7.3"
  }
 },
 "nbformat": 4,
 "nbformat_minor": 4
}
